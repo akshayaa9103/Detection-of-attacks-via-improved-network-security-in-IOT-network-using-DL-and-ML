{
 "cells": [
  {
   "cell_type": "code",
   "execution_count": 1,
   "metadata": {},
   "outputs": [
    {
     "name": "stdout",
     "output_type": "stream",
     "text": [
      "Requirement already satisfied: xgboost in c:\\users\\akshu\\anaconda3.x\\lib\\site-packages (2.0.3)\n",
      "Requirement already satisfied: scipy in c:\\users\\akshu\\anaconda3.x\\lib\\site-packages (from xgboost) (1.10.0)\n",
      "Requirement already satisfied: numpy in c:\\users\\akshu\\anaconda3.x\\lib\\site-packages (from xgboost) (1.23.5)\n",
      "Note: you may need to restart the kernel to use updated packages.\n"
     ]
    }
   ],
   "source": [
    "%pip install xgboost"
   ]
  },
  {
   "cell_type": "code",
   "execution_count": 2,
   "metadata": {},
   "outputs": [
    {
     "name": "stdout",
     "output_type": "stream",
     "text": [
      "Requirement already satisfied: scikit-fuzzy in c:\\users\\akshu\\anaconda3.x\\lib\\site-packages (0.4.2)\n",
      "Requirement already satisfied: networkx>=1.9.0 in c:\\users\\akshu\\anaconda3.x\\lib\\site-packages (from scikit-fuzzy) (2.8.4)\n",
      "Requirement already satisfied: numpy>=1.6.0 in c:\\users\\akshu\\anaconda3.x\\lib\\site-packages (from scikit-fuzzy) (1.23.5)\n",
      "Requirement already satisfied: scipy>=0.9.0 in c:\\users\\akshu\\anaconda3.x\\lib\\site-packages (from scikit-fuzzy) (1.10.0)\n",
      "Note: you may need to restart the kernel to use updated packages.\n"
     ]
    }
   ],
   "source": [
    "%pip install scikit-fuzzy"
   ]
  },
  {
   "cell_type": "code",
   "execution_count": 3,
   "metadata": {},
   "outputs": [
    {
     "name": "stdout",
     "output_type": "stream",
     "text": [
      "Requirement already satisfied: numpy in c:\\users\\akshu\\anaconda3.x\\lib\\site-packages (1.23.5)\n",
      "Note: you may need to restart the kernel to use updated packages.\n"
     ]
    }
   ],
   "source": [
    "%pip install numpy"
   ]
  },
  {
   "cell_type": "code",
   "execution_count": 4,
   "metadata": {},
   "outputs": [
    {
     "name": "stdout",
     "output_type": "stream",
     "text": [
      "Package                       Version\n",
      "----------------------------- ---------------\n",
      "absl-py                       2.1.0\n",
      "alabaster                     0.7.12\n",
      "anaconda-client               1.11.2\n",
      "anaconda-navigator            2.4.0\n",
      "anaconda-project              0.11.1\n",
      "anyio                         3.5.0\n",
      "appdirs                       1.4.4\n",
      "argon2-cffi                   21.3.0\n",
      "argon2-cffi-bindings          21.2.0\n",
      "arrow                         1.2.3\n",
      "astroid                       2.14.2\n",
      "astropy                       5.1\n",
      "asttokens                     2.0.5\n",
      "astunparse                    1.6.3\n",
      "atomicwrites                  1.4.0\n",
      "attrs                         22.1.0\n",
      "Automat                       20.2.0\n",
      "autopep8                      1.6.0\n",
      "Babel                         2.11.0\n",
      "backcall                      0.2.0\n",
      "backports.functools-lru-cache 1.6.4\n",
      "backports.tempfile            1.0\n",
      "backports.weakref             1.0.post1\n",
      "bcrypt                        3.2.0\n",
      "beautifulsoup4                4.11.1\n",
      "binaryornot                   0.4.4\n",
      "black                         22.6.0\n",
      "bleach                        4.1.0\n",
      "bokeh                         2.4.3\n",
      "boltons                       23.0.0\n",
      "Bottleneck                    1.3.5\n",
      "brotlipy                      0.7.0\n",
      "certifi                       2022.12.7\n",
      "cffi                          1.15.1\n",
      "chardet                       4.0.0\n",
      "charset-normalizer            2.0.4\n",
      "click                         8.0.4\n",
      "cloudpickle                   2.0.0\n",
      "clyent                        1.2.2\n",
      "colorama                      0.4.6\n",
      "colorcet                      3.0.1\n",
      "comm                          0.1.2\n",
      "conda                         23.3.1\n",
      "conda-build                   3.24.0\n",
      "conda-content-trust           0.1.3\n",
      "conda-pack                    0.6.0\n",
      "conda-package-handling        2.0.2\n",
      "conda_package_streaming       0.7.0\n",
      "conda-repo-cli                1.0.41\n",
      "conda-token                   0.4.0\n",
      "conda-verify                  3.4.2\n",
      "constantly                    15.1.0\n",
      "contourpy                     1.0.5\n",
      "cookiecutter                  1.7.3\n",
      "cryptography                  39.0.1\n",
      "cssselect                     1.1.0\n",
      "cycler                        0.11.0\n",
      "cytoolz                       0.12.0\n",
      "daal4py                       2023.0.2\n",
      "dask                          2022.7.0\n",
      "datashader                    0.14.4\n",
      "datashape                     0.5.4\n",
      "debugpy                       1.5.1\n",
      "decorator                     5.1.1\n",
      "defusedxml                    0.7.1\n",
      "diff-match-patch              20200713\n",
      "dill                          0.3.6\n",
      "distributed                   2022.7.0\n",
      "docstring-to-markdown         0.11\n",
      "docutils                      0.18.1\n",
      "entrypoints                   0.4\n",
      "et-xmlfile                    1.1.0\n",
      "executing                     0.8.3\n",
      "fastjsonschema                2.16.2\n",
      "filelock                      3.9.0\n",
      "flake8                        6.0.0\n",
      "Flask                         2.2.2\n",
      "flatbuffers                   24.3.25\n",
      "flit_core                     3.6.0\n",
      "fonttools                     4.25.0\n",
      "fsspec                        2022.11.0\n",
      "future                        0.18.3\n",
      "gast                          0.5.4\n",
      "gensim                        4.3.0\n",
      "glob2                         0.7\n",
      "google-pasta                  0.2.0\n",
      "greenlet                      2.0.1\n",
      "grpcio                        1.62.1\n",
      "h5py                          3.11.0\n",
      "HeapDict                      1.0.1\n",
      "holoviews                     1.15.4\n",
      "huggingface-hub               0.10.1\n",
      "hvplot                        0.8.2\n",
      "hyperlink                     21.0.0\n",
      "idna                          3.4\n",
      "imagecodecs                   2021.8.26\n",
      "imageio                       2.26.0\n",
      "imagesize                     1.4.1\n",
      "imbalanced-learn              0.10.1\n",
      "importlib-metadata            4.11.3\n",
      "incremental                   21.3.0\n",
      "inflection                    0.5.1\n",
      "iniconfig                     1.1.1\n",
      "intake                        0.6.7\n",
      "intervaltree                  3.1.0\n",
      "ipykernel                     6.19.2\n",
      "ipython                       8.10.0\n",
      "ipython-genutils              0.2.0\n",
      "ipywidgets                    7.6.5\n",
      "isort                         5.9.3\n",
      "itemadapter                   0.3.0\n",
      "itemloaders                   1.0.4\n",
      "itsdangerous                  2.0.1\n",
      "jedi                          0.18.1\n",
      "jellyfish                     0.9.0\n",
      "Jinja2                        3.1.2\n",
      "jinja2-time                   0.2.0\n",
      "jmespath                      0.10.0\n",
      "joblib                        1.1.1\n",
      "json5                         0.9.6\n",
      "jsonpatch                     1.32\n",
      "jsonpointer                   2.1\n",
      "jsonschema                    4.17.3\n",
      "jupyter                       1.0.0\n",
      "jupyter_client                7.3.4\n",
      "jupyter-console               6.6.2\n",
      "jupyter_core                  5.2.0\n",
      "jupyter-server                1.23.4\n",
      "jupyterlab                    3.5.3\n",
      "jupyterlab-pygments           0.1.2\n",
      "jupyterlab_server             2.19.0\n",
      "jupyterlab-widgets            1.0.0\n",
      "keras                         3.2.1\n",
      "keyring                       23.4.0\n",
      "kiwisolver                    1.4.4\n",
      "lazy-object-proxy             1.6.0\n",
      "libarchive-c                  2.9\n",
      "libclang                      18.1.1\n",
      "llvmlite                      0.39.1\n",
      "locket                        1.0.0\n",
      "lxml                          4.9.1\n",
      "lz4                           3.1.3\n",
      "Markdown                      3.4.1\n",
      "markdown-it-py                3.0.0\n",
      "MarkupSafe                    2.1.1\n",
      "matplotlib                    3.7.0\n",
      "matplotlib-inline             0.1.6\n",
      "mccabe                        0.7.0\n",
      "mdurl                         0.1.2\n",
      "menuinst                      1.4.19\n",
      "mistune                       0.8.4\n",
      "mkl-fft                       1.3.1\n",
      "mkl-random                    1.2.2\n",
      "mkl-service                   2.4.0\n",
      "ml-dtypes                     0.3.2\n",
      "mock                          4.0.3\n",
      "mpmath                        1.2.1\n",
      "msgpack                       1.0.3\n",
      "multipledispatch              0.6.0\n",
      "munkres                       1.1.4\n",
      "mypy-extensions               0.4.3\n",
      "namex                         0.0.7\n",
      "navigator-updater             0.3.0\n",
      "nbclassic                     0.5.2\n",
      "nbclient                      0.5.13\n",
      "nbconvert                     6.5.4\n",
      "nbformat                      5.7.0\n",
      "nest-asyncio                  1.5.6\n",
      "networkx                      2.8.4\n",
      "nltk                          3.7\n",
      "notebook                      6.5.2\n",
      "notebook_shim                 0.2.2\n",
      "numba                         0.56.4\n",
      "numexpr                       2.8.4\n",
      "numpy                         1.23.5\n",
      "numpydoc                      1.5.0\n",
      "openpyxl                      3.0.10\n",
      "opt-einsum                    3.3.0\n",
      "optree                        0.11.0\n",
      "packaging                     22.0\n",
      "pandas                        1.5.3\n",
      "pandocfilters                 1.5.0\n",
      "panel                         0.14.3\n",
      "param                         1.12.3\n",
      "paramiko                      2.8.1\n",
      "parsel                        1.6.0\n",
      "parso                         0.8.3\n",
      "partd                         1.2.0\n",
      "pathlib                       1.0.1\n",
      "pathspec                      0.10.3\n",
      "patsy                         0.5.3\n",
      "pep8                          1.7.1\n",
      "pexpect                       4.8.0\n",
      "pickleshare                   0.7.5\n",
      "Pillow                        9.4.0\n",
      "pip                           22.3.1\n",
      "pkginfo                       1.9.6\n",
      "platformdirs                  2.5.2\n",
      "plotly                        5.9.0\n",
      "pluggy                        1.0.0\n",
      "ply                           3.11\n",
      "pooch                         1.4.0\n",
      "poyo                          0.5.0\n",
      "prometheus-client             0.14.1\n",
      "prompt-toolkit                3.0.36\n",
      "Protego                       0.1.16\n",
      "protobuf                      4.25.3\n",
      "psutil                        5.9.0\n",
      "ptyprocess                    0.7.0\n",
      "pure-eval                     0.2.2\n",
      "py                            1.11.0\n",
      "pyasn1                        0.4.8\n",
      "pyasn1-modules                0.2.8\n",
      "pycodestyle                   2.10.0\n",
      "pycosat                       0.6.4\n",
      "pycparser                     2.21\n",
      "pyct                          0.5.0\n",
      "pycurl                        7.45.1\n",
      "PyDispatcher                  2.0.5\n",
      "pydocstyle                    6.3.0\n",
      "pyerfa                        2.0.0\n",
      "pyflakes                      3.0.1\n",
      "Pygments                      2.17.2\n",
      "PyHamcrest                    2.0.2\n",
      "PyJWT                         2.4.0\n",
      "pylint                        2.16.2\n",
      "pylint-venv                   2.3.0\n",
      "pyls-spyder                   0.4.0\n",
      "PyNaCl                        1.5.0\n",
      "pyodbc                        4.0.34\n",
      "pyOpenSSL                     23.0.0\n",
      "pyparsing                     3.0.9\n",
      "PyQt5                         5.15.7\n",
      "PyQt5-sip                     12.11.0\n",
      "PyQtWebEngine                 5.15.4\n",
      "pyrsistent                    0.18.0\n",
      "PySocks                       1.7.1\n",
      "pytest                        7.1.2\n",
      "python-dateutil               2.8.2\n",
      "python-lsp-black              1.2.1\n",
      "python-lsp-jsonrpc            1.0.0\n",
      "python-lsp-server             1.7.1\n",
      "python-slugify                5.0.2\n",
      "python-snappy                 0.6.1\n",
      "pytoolconfig                  1.2.5\n",
      "pytz                          2022.7\n",
      "pyviz-comms                   2.0.2\n",
      "PyWavelets                    1.4.1\n",
      "pywin32                       305.1\n",
      "pywin32-ctypes                0.2.0\n",
      "pywinpty                      2.0.10\n",
      "PyYAML                        6.0\n",
      "pyzmq                         23.2.0\n",
      "QDarkStyle                    3.0.2\n",
      "qstylizer                     0.2.2\n",
      "QtAwesome                     1.2.2\n",
      "qtconsole                     5.4.0\n",
      "QtPy                          2.2.0\n",
      "queuelib                      1.5.0\n",
      "regex                         2022.7.9\n",
      "requests                      2.28.1\n",
      "requests-file                 1.5.1\n",
      "requests-toolbelt             0.9.1\n",
      "rich                          13.7.1\n",
      "rope                          1.7.0\n",
      "Rtree                         1.0.1\n",
      "ruamel.yaml                   0.17.21\n",
      "ruamel.yaml.clib              0.2.6\n",
      "ruamel-yaml-conda             0.17.21\n",
      "scikit-fuzzy                  0.4.2\n",
      "scikit-image                  0.19.3\n",
      "scikit-learn                  1.2.1\n",
      "scikit-learn-intelex          20230228.214818\n",
      "scipy                         1.10.0\n",
      "Scrapy                        2.8.0\n",
      "seaborn                       0.12.2\n",
      "Send2Trash                    1.8.0\n",
      "service-identity              18.1.0\n",
      "setuptools                    65.6.3\n",
      "sip                           6.6.2\n",
      "six                           1.16.0\n",
      "smart-open                    5.2.1\n",
      "sniffio                       1.2.0\n",
      "snowballstemmer               2.2.0\n",
      "sortedcontainers              2.4.0\n",
      "soupsieve                     2.3.2.post1\n",
      "Sphinx                        5.0.2\n",
      "sphinxcontrib-applehelp       1.0.2\n",
      "sphinxcontrib-devhelp         1.0.2\n",
      "sphinxcontrib-htmlhelp        2.0.0\n",
      "sphinxcontrib-jsmath          1.0.1\n",
      "sphinxcontrib-qthelp          1.0.3\n",
      "sphinxcontrib-serializinghtml 1.1.5\n",
      "spyder                        5.4.1\n",
      "spyder-kernels                2.4.1\n",
      "SQLAlchemy                    1.4.39\n",
      "stack-data                    0.2.0\n",
      "statsmodels                   0.13.5\n",
      "sympy                         1.11.1\n",
      "tables                        3.7.0\n",
      "tabulate                      0.8.10\n",
      "TBB                           0.2\n",
      "tblib                         1.7.0\n",
      "tenacity                      8.0.1\n",
      "tensorboard                   2.16.2\n",
      "tensorboard-data-server       0.7.2\n",
      "tensorflow                    2.16.1\n",
      "tensorflow-intel              2.16.1\n",
      "tensorflow-io-gcs-filesystem  0.31.0\n",
      "termcolor                     2.4.0\n",
      "terminado                     0.17.1\n",
      "text-unidecode                1.3\n",
      "textdistance                  4.2.1\n",
      "threadpoolctl                 2.2.0\n",
      "three-merge                   0.1.1\n",
      "tifffile                      2021.7.2\n",
      "tinycss2                      1.2.1\n",
      "tldextract                    3.2.0\n",
      "tokenizers                    0.11.4\n",
      "toml                          0.10.2\n",
      "tomli                         2.0.1\n",
      "tomlkit                       0.11.1\n",
      "toolz                         0.12.0\n",
      "torch                         1.12.1\n",
      "tornado                       6.1\n",
      "tqdm                          4.64.1\n",
      "traitlets                     5.7.1\n",
      "transformers                  4.24.0\n",
      "Twisted                       22.2.0\n",
      "twisted-iocpsupport           1.0.2\n",
      "typing_extensions             4.4.0\n",
      "ujson                         5.4.0\n",
      "Unidecode                     1.2.0\n",
      "urllib3                       1.26.14\n",
      "w3lib                         1.21.0\n",
      "watchdog                      2.1.6\n",
      "wcwidth                       0.2.5\n",
      "webencodings                  0.5.1\n",
      "websocket-client              0.58.0\n",
      "Werkzeug                      2.2.2\n",
      "whatthepatch                  1.0.2\n",
      "wheel                         0.38.4\n",
      "widgetsnbextension            3.5.2\n",
      "win-inet-pton                 1.1.0\n",
      "wincertstore                  0.2\n",
      "wrapt                         1.14.1\n",
      "xarray                        2022.11.0\n",
      "xgboost                       2.0.3\n",
      "xlwings                       0.29.1\n",
      "yapf                          0.31.0\n",
      "zict                          2.1.0\n",
      "zipp                          3.11.0\n",
      "zope.interface                5.4.0\n",
      "zstandard                     0.19.0\n",
      "Note: you may need to restart the kernel to use updated packages.\n"
     ]
    }
   ],
   "source": [
    "pip list"
   ]
  },
  {
   "cell_type": "code",
   "execution_count": 5,
   "metadata": {},
   "outputs": [],
   "source": [
    "import numpy as np\n",
    "import pandas as pd\n",
    "import matplotlib\n",
    "import seaborn as sns\n",
    "import sklearn\n",
    "import imblearn\n",
    "import matplotlib.pyplot as plt\n",
    "import time\n",
    "import sklearn.metrics as m\n",
    "import xgboost as xgb\n",
    "\n",
    "import warnings\n",
    "warnings.filterwarnings('ignore')"
   ]
  },
  {
   "cell_type": "code",
   "execution_count": 6,
   "metadata": {},
   "outputs": [],
   "source": [
    "df1=pd.read_csv(\"E:\\Mini Project\\Friday-WorkingHours-Afternoon-DDos.pcap_ISCX.csv\")\n",
    "df2=pd.read_csv(\"E:\\Mini Project\\Friday-WorkingHours-Afternoon-PortScan.pcap_ISCX.csv\")\n",
    "df3=pd.read_csv(\"E:\\Mini Project\\Friday-WorkingHours-Morning.pcap_ISCX.csv\")\n",
    "#df4=pd.read_csv(\"E:\\Mini Project\\Monday-WorkingHours.pcap_ISCX.csv\")\n",
    "df5=pd.read_csv(\"E:\\Mini Project\\Thursday-WorkingHours-Afternoon-Infilteration.pcap_ISCX.csv\")\n",
    "df6=pd.read_csv(\"E:\\Mini Project\\Thursday-WorkingHours-Morning-WebAttacks.pcap_ISCX.csv\")\n",
    "#df7=pd.read_csv(\"E:\\Mini Project\\Tuesday-WorkingHours.pcap_ISCX.csv\")\n",
    "#df8=pd.read_csv(\"E:\\Mini Project\\Wednesday-workingHours.pcap_ISCX.csv\")"
   ]
  },
  {
   "cell_type": "code",
   "execution_count": 7,
   "metadata": {},
   "outputs": [],
   "source": [
    "df = pd.concat([df1, df2, df3, df5, df6], ignore_index=True)"
   ]
  },
  {
   "cell_type": "code",
   "execution_count": 8,
   "metadata": {},
   "outputs": [
    {
     "data": {
      "text/plain": [
       "Index([' Destination Port', ' Flow Duration', ' Total Fwd Packets',\n",
       "       ' Total Backward Packets', 'Total Length of Fwd Packets',\n",
       "       ' Total Length of Bwd Packets', ' Fwd Packet Length Max',\n",
       "       ' Fwd Packet Length Min', ' Fwd Packet Length Mean',\n",
       "       ' Fwd Packet Length Std', 'Bwd Packet Length Max',\n",
       "       ' Bwd Packet Length Min', ' Bwd Packet Length Mean',\n",
       "       ' Bwd Packet Length Std', 'Flow Bytes/s', ' Flow Packets/s',\n",
       "       ' Flow IAT Mean', ' Flow IAT Std', ' Flow IAT Max', ' Flow IAT Min',\n",
       "       'Fwd IAT Total', ' Fwd IAT Mean', ' Fwd IAT Std', ' Fwd IAT Max',\n",
       "       ' Fwd IAT Min', 'Bwd IAT Total', ' Bwd IAT Mean', ' Bwd IAT Std',\n",
       "       ' Bwd IAT Max', ' Bwd IAT Min', 'Fwd PSH Flags', ' Bwd PSH Flags',\n",
       "       ' Fwd URG Flags', ' Bwd URG Flags', ' Fwd Header Length',\n",
       "       ' Bwd Header Length', 'Fwd Packets/s', ' Bwd Packets/s',\n",
       "       ' Min Packet Length', ' Max Packet Length', ' Packet Length Mean',\n",
       "       ' Packet Length Std', ' Packet Length Variance', 'FIN Flag Count',\n",
       "       ' SYN Flag Count', ' RST Flag Count', ' PSH Flag Count',\n",
       "       ' ACK Flag Count', ' URG Flag Count', ' CWE Flag Count',\n",
       "       ' ECE Flag Count', ' Down/Up Ratio', ' Average Packet Size',\n",
       "       ' Avg Fwd Segment Size', ' Avg Bwd Segment Size',\n",
       "       ' Fwd Header Length.1', 'Fwd Avg Bytes/Bulk', ' Fwd Avg Packets/Bulk',\n",
       "       ' Fwd Avg Bulk Rate', ' Bwd Avg Bytes/Bulk', ' Bwd Avg Packets/Bulk',\n",
       "       'Bwd Avg Bulk Rate', 'Subflow Fwd Packets', ' Subflow Fwd Bytes',\n",
       "       ' Subflow Bwd Packets', ' Subflow Bwd Bytes', 'Init_Win_bytes_forward',\n",
       "       ' Init_Win_bytes_backward', ' act_data_pkt_fwd',\n",
       "       ' min_seg_size_forward', 'Active Mean', ' Active Std', ' Active Max',\n",
       "       ' Active Min', 'Idle Mean', ' Idle Std', ' Idle Max', ' Idle Min',\n",
       "       ' Label'],\n",
       "      dtype='object')"
      ]
     },
     "execution_count": 8,
     "metadata": {},
     "output_type": "execute_result"
    }
   ],
   "source": [
    "df1.columns"
   ]
  },
  {
   "cell_type": "code",
   "execution_count": 9,
   "metadata": {},
   "outputs": [],
   "source": [
    "df.columns = df.columns.str.strip()"
   ]
  },
  {
   "cell_type": "code",
   "execution_count": 10,
   "metadata": {},
   "outputs": [
    {
     "data": {
      "text/html": [
       "<div>\n",
       "<style scoped>\n",
       "    .dataframe tbody tr th:only-of-type {\n",
       "        vertical-align: middle;\n",
       "    }\n",
       "\n",
       "    .dataframe tbody tr th {\n",
       "        vertical-align: top;\n",
       "    }\n",
       "\n",
       "    .dataframe thead th {\n",
       "        text-align: right;\n",
       "    }\n",
       "</style>\n",
       "<table border=\"1\" class=\"dataframe\">\n",
       "  <thead>\n",
       "    <tr style=\"text-align: right;\">\n",
       "      <th></th>\n",
       "      <th>Destination Port</th>\n",
       "      <th>Flow Duration</th>\n",
       "      <th>Total Fwd Packets</th>\n",
       "      <th>Total Backward Packets</th>\n",
       "      <th>Total Length of Fwd Packets</th>\n",
       "      <th>Total Length of Bwd Packets</th>\n",
       "      <th>Fwd Packet Length Max</th>\n",
       "      <th>Fwd Packet Length Min</th>\n",
       "      <th>Fwd Packet Length Mean</th>\n",
       "      <th>Fwd Packet Length Std</th>\n",
       "      <th>...</th>\n",
       "      <th>min_seg_size_forward</th>\n",
       "      <th>Active Mean</th>\n",
       "      <th>Active Std</th>\n",
       "      <th>Active Max</th>\n",
       "      <th>Active Min</th>\n",
       "      <th>Idle Mean</th>\n",
       "      <th>Idle Std</th>\n",
       "      <th>Idle Max</th>\n",
       "      <th>Idle Min</th>\n",
       "      <th>Label</th>\n",
       "    </tr>\n",
       "  </thead>\n",
       "  <tbody>\n",
       "    <tr>\n",
       "      <th>0</th>\n",
       "      <td>54865</td>\n",
       "      <td>3</td>\n",
       "      <td>2</td>\n",
       "      <td>0</td>\n",
       "      <td>12</td>\n",
       "      <td>0</td>\n",
       "      <td>6</td>\n",
       "      <td>6</td>\n",
       "      <td>6.0</td>\n",
       "      <td>0.0</td>\n",
       "      <td>...</td>\n",
       "      <td>20</td>\n",
       "      <td>0.0</td>\n",
       "      <td>0.0</td>\n",
       "      <td>0</td>\n",
       "      <td>0</td>\n",
       "      <td>0.0</td>\n",
       "      <td>0.0</td>\n",
       "      <td>0</td>\n",
       "      <td>0</td>\n",
       "      <td>BENIGN</td>\n",
       "    </tr>\n",
       "    <tr>\n",
       "      <th>1</th>\n",
       "      <td>55054</td>\n",
       "      <td>109</td>\n",
       "      <td>1</td>\n",
       "      <td>1</td>\n",
       "      <td>6</td>\n",
       "      <td>6</td>\n",
       "      <td>6</td>\n",
       "      <td>6</td>\n",
       "      <td>6.0</td>\n",
       "      <td>0.0</td>\n",
       "      <td>...</td>\n",
       "      <td>20</td>\n",
       "      <td>0.0</td>\n",
       "      <td>0.0</td>\n",
       "      <td>0</td>\n",
       "      <td>0</td>\n",
       "      <td>0.0</td>\n",
       "      <td>0.0</td>\n",
       "      <td>0</td>\n",
       "      <td>0</td>\n",
       "      <td>BENIGN</td>\n",
       "    </tr>\n",
       "    <tr>\n",
       "      <th>2</th>\n",
       "      <td>55055</td>\n",
       "      <td>52</td>\n",
       "      <td>1</td>\n",
       "      <td>1</td>\n",
       "      <td>6</td>\n",
       "      <td>6</td>\n",
       "      <td>6</td>\n",
       "      <td>6</td>\n",
       "      <td>6.0</td>\n",
       "      <td>0.0</td>\n",
       "      <td>...</td>\n",
       "      <td>20</td>\n",
       "      <td>0.0</td>\n",
       "      <td>0.0</td>\n",
       "      <td>0</td>\n",
       "      <td>0</td>\n",
       "      <td>0.0</td>\n",
       "      <td>0.0</td>\n",
       "      <td>0</td>\n",
       "      <td>0</td>\n",
       "      <td>BENIGN</td>\n",
       "    </tr>\n",
       "    <tr>\n",
       "      <th>3</th>\n",
       "      <td>46236</td>\n",
       "      <td>34</td>\n",
       "      <td>1</td>\n",
       "      <td>1</td>\n",
       "      <td>6</td>\n",
       "      <td>6</td>\n",
       "      <td>6</td>\n",
       "      <td>6</td>\n",
       "      <td>6.0</td>\n",
       "      <td>0.0</td>\n",
       "      <td>...</td>\n",
       "      <td>20</td>\n",
       "      <td>0.0</td>\n",
       "      <td>0.0</td>\n",
       "      <td>0</td>\n",
       "      <td>0</td>\n",
       "      <td>0.0</td>\n",
       "      <td>0.0</td>\n",
       "      <td>0</td>\n",
       "      <td>0</td>\n",
       "      <td>BENIGN</td>\n",
       "    </tr>\n",
       "    <tr>\n",
       "      <th>4</th>\n",
       "      <td>54863</td>\n",
       "      <td>3</td>\n",
       "      <td>2</td>\n",
       "      <td>0</td>\n",
       "      <td>12</td>\n",
       "      <td>0</td>\n",
       "      <td>6</td>\n",
       "      <td>6</td>\n",
       "      <td>6.0</td>\n",
       "      <td>0.0</td>\n",
       "      <td>...</td>\n",
       "      <td>20</td>\n",
       "      <td>0.0</td>\n",
       "      <td>0.0</td>\n",
       "      <td>0</td>\n",
       "      <td>0</td>\n",
       "      <td>0.0</td>\n",
       "      <td>0.0</td>\n",
       "      <td>0</td>\n",
       "      <td>0</td>\n",
       "      <td>BENIGN</td>\n",
       "    </tr>\n",
       "  </tbody>\n",
       "</table>\n",
       "<p>5 rows × 79 columns</p>\n",
       "</div>"
      ],
      "text/plain": [
       "   Destination Port  Flow Duration  Total Fwd Packets  Total Backward Packets  \\\n",
       "0             54865              3                  2                       0   \n",
       "1             55054            109                  1                       1   \n",
       "2             55055             52                  1                       1   \n",
       "3             46236             34                  1                       1   \n",
       "4             54863              3                  2                       0   \n",
       "\n",
       "   Total Length of Fwd Packets  Total Length of Bwd Packets  \\\n",
       "0                           12                            0   \n",
       "1                            6                            6   \n",
       "2                            6                            6   \n",
       "3                            6                            6   \n",
       "4                           12                            0   \n",
       "\n",
       "   Fwd Packet Length Max  Fwd Packet Length Min  Fwd Packet Length Mean  \\\n",
       "0                      6                      6                     6.0   \n",
       "1                      6                      6                     6.0   \n",
       "2                      6                      6                     6.0   \n",
       "3                      6                      6                     6.0   \n",
       "4                      6                      6                     6.0   \n",
       "\n",
       "   Fwd Packet Length Std  ...  min_seg_size_forward  Active Mean  Active Std  \\\n",
       "0                    0.0  ...                    20          0.0         0.0   \n",
       "1                    0.0  ...                    20          0.0         0.0   \n",
       "2                    0.0  ...                    20          0.0         0.0   \n",
       "3                    0.0  ...                    20          0.0         0.0   \n",
       "4                    0.0  ...                    20          0.0         0.0   \n",
       "\n",
       "   Active Max  Active Min  Idle Mean  Idle Std  Idle Max  Idle Min   Label  \n",
       "0           0           0        0.0       0.0         0         0  BENIGN  \n",
       "1           0           0        0.0       0.0         0         0  BENIGN  \n",
       "2           0           0        0.0       0.0         0         0  BENIGN  \n",
       "3           0           0        0.0       0.0         0         0  BENIGN  \n",
       "4           0           0        0.0       0.0         0         0  BENIGN  \n",
       "\n",
       "[5 rows x 79 columns]"
      ]
     },
     "execution_count": 10,
     "metadata": {},
     "output_type": "execute_result"
    }
   ],
   "source": [
    "df.head()"
   ]
  },
  {
   "cell_type": "code",
   "execution_count": 11,
   "metadata": {},
   "outputs": [
    {
     "data": {
      "text/plain": [
       "Index(['Flow Bytes/s'], dtype='object')"
      ]
     },
     "execution_count": 11,
     "metadata": {},
     "output_type": "execute_result"
    }
   ],
   "source": [
    "df.columns[df.isnull().any()]"
   ]
  },
  {
   "cell_type": "code",
   "execution_count": 12,
   "metadata": {},
   "outputs": [
    {
     "data": {
      "text/plain": [
       "0.007313633559424994"
      ]
     },
     "execution_count": 12,
     "metadata": {},
     "output_type": "execute_result"
    }
   ],
   "source": [
    "df['Flow Bytes/s'].isnull().sum()/len(df)*100"
   ]
  },
  {
   "cell_type": "code",
   "execution_count": 13,
   "metadata": {},
   "outputs": [],
   "source": [
    "df = df[~(df['Flow Bytes/s'].isnull())]"
   ]
  },
  {
   "cell_type": "code",
   "execution_count": 14,
   "metadata": {},
   "outputs": [
    {
     "data": {
      "text/plain": [
       "BENIGN                        870989\n",
       "PortScan                      158930\n",
       "DDoS                          128027\n",
       "Bot                             1966\n",
       "Web Attack � Brute Force        1507\n",
       "Web Attack � XSS                 652\n",
       "Infiltration                      36\n",
       "Web Attack � Sql Injection        21\n",
       "Name: Label, dtype: int64"
      ]
     },
     "execution_count": 14,
     "metadata": {},
     "output_type": "execute_result"
    }
   ],
   "source": [
    "df.Label.value_counts()"
   ]
  },
  {
   "cell_type": "code",
   "execution_count": 15,
   "metadata": {},
   "outputs": [
    {
     "name": "stdout",
     "output_type": "stream",
     "text": [
      "<class 'pandas.core.frame.DataFrame'>\n",
      "Int64Index: 1162128 entries, 0 to 1162212\n",
      "Data columns (total 79 columns):\n",
      " #   Column                       Non-Null Count    Dtype  \n",
      "---  ------                       --------------    -----  \n",
      " 0   Destination Port             1162128 non-null  int64  \n",
      " 1   Flow Duration                1162128 non-null  int64  \n",
      " 2   Total Fwd Packets            1162128 non-null  int64  \n",
      " 3   Total Backward Packets       1162128 non-null  int64  \n",
      " 4   Total Length of Fwd Packets  1162128 non-null  int64  \n",
      " 5   Total Length of Bwd Packets  1162128 non-null  int64  \n",
      " 6   Fwd Packet Length Max        1162128 non-null  int64  \n",
      " 7   Fwd Packet Length Min        1162128 non-null  int64  \n",
      " 8   Fwd Packet Length Mean       1162128 non-null  float64\n",
      " 9   Fwd Packet Length Std        1162128 non-null  float64\n",
      " 10  Bwd Packet Length Max        1162128 non-null  int64  \n",
      " 11  Bwd Packet Length Min        1162128 non-null  int64  \n",
      " 12  Bwd Packet Length Mean       1162128 non-null  float64\n",
      " 13  Bwd Packet Length Std        1162128 non-null  float64\n",
      " 14  Flow Bytes/s                 1162128 non-null  float64\n",
      " 15  Flow Packets/s               1162128 non-null  float64\n",
      " 16  Flow IAT Mean                1162128 non-null  float64\n",
      " 17  Flow IAT Std                 1162128 non-null  float64\n",
      " 18  Flow IAT Max                 1162128 non-null  int64  \n",
      " 19  Flow IAT Min                 1162128 non-null  int64  \n",
      " 20  Fwd IAT Total                1162128 non-null  int64  \n",
      " 21  Fwd IAT Mean                 1162128 non-null  float64\n",
      " 22  Fwd IAT Std                  1162128 non-null  float64\n",
      " 23  Fwd IAT Max                  1162128 non-null  int64  \n",
      " 24  Fwd IAT Min                  1162128 non-null  int64  \n",
      " 25  Bwd IAT Total                1162128 non-null  int64  \n",
      " 26  Bwd IAT Mean                 1162128 non-null  float64\n",
      " 27  Bwd IAT Std                  1162128 non-null  float64\n",
      " 28  Bwd IAT Max                  1162128 non-null  int64  \n",
      " 29  Bwd IAT Min                  1162128 non-null  int64  \n",
      " 30  Fwd PSH Flags                1162128 non-null  int64  \n",
      " 31  Bwd PSH Flags                1162128 non-null  int64  \n",
      " 32  Fwd URG Flags                1162128 non-null  int64  \n",
      " 33  Bwd URG Flags                1162128 non-null  int64  \n",
      " 34  Fwd Header Length            1162128 non-null  int64  \n",
      " 35  Bwd Header Length            1162128 non-null  int64  \n",
      " 36  Fwd Packets/s                1162128 non-null  float64\n",
      " 37  Bwd Packets/s                1162128 non-null  float64\n",
      " 38  Min Packet Length            1162128 non-null  int64  \n",
      " 39  Max Packet Length            1162128 non-null  int64  \n",
      " 40  Packet Length Mean           1162128 non-null  float64\n",
      " 41  Packet Length Std            1162128 non-null  float64\n",
      " 42  Packet Length Variance       1162128 non-null  float64\n",
      " 43  FIN Flag Count               1162128 non-null  int64  \n",
      " 44  SYN Flag Count               1162128 non-null  int64  \n",
      " 45  RST Flag Count               1162128 non-null  int64  \n",
      " 46  PSH Flag Count               1162128 non-null  int64  \n",
      " 47  ACK Flag Count               1162128 non-null  int64  \n",
      " 48  URG Flag Count               1162128 non-null  int64  \n",
      " 49  CWE Flag Count               1162128 non-null  int64  \n",
      " 50  ECE Flag Count               1162128 non-null  int64  \n",
      " 51  Down/Up Ratio                1162128 non-null  int64  \n",
      " 52  Average Packet Size          1162128 non-null  float64\n",
      " 53  Avg Fwd Segment Size         1162128 non-null  float64\n",
      " 54  Avg Bwd Segment Size         1162128 non-null  float64\n",
      " 55  Fwd Header Length.1          1162128 non-null  int64  \n",
      " 56  Fwd Avg Bytes/Bulk           1162128 non-null  int64  \n",
      " 57  Fwd Avg Packets/Bulk         1162128 non-null  int64  \n",
      " 58  Fwd Avg Bulk Rate            1162128 non-null  int64  \n",
      " 59  Bwd Avg Bytes/Bulk           1162128 non-null  int64  \n",
      " 60  Bwd Avg Packets/Bulk         1162128 non-null  int64  \n",
      " 61  Bwd Avg Bulk Rate            1162128 non-null  int64  \n",
      " 62  Subflow Fwd Packets          1162128 non-null  int64  \n",
      " 63  Subflow Fwd Bytes            1162128 non-null  int64  \n",
      " 64  Subflow Bwd Packets          1162128 non-null  int64  \n",
      " 65  Subflow Bwd Bytes            1162128 non-null  int64  \n",
      " 66  Init_Win_bytes_forward       1162128 non-null  int64  \n",
      " 67  Init_Win_bytes_backward      1162128 non-null  int64  \n",
      " 68  act_data_pkt_fwd             1162128 non-null  int64  \n",
      " 69  min_seg_size_forward         1162128 non-null  int64  \n",
      " 70  Active Mean                  1162128 non-null  float64\n",
      " 71  Active Std                   1162128 non-null  float64\n",
      " 72  Active Max                   1162128 non-null  int64  \n",
      " 73  Active Min                   1162128 non-null  int64  \n",
      " 74  Idle Mean                    1162128 non-null  float64\n",
      " 75  Idle Std                     1162128 non-null  float64\n",
      " 76  Idle Max                     1162128 non-null  int64  \n",
      " 77  Idle Min                     1162128 non-null  int64  \n",
      " 78  Label                        1162128 non-null  object \n",
      "dtypes: float64(24), int64(54), object(1)\n",
      "memory usage: 709.3+ MB\n"
     ]
    }
   ],
   "source": [
    "df.info()"
   ]
  },
  {
   "cell_type": "code",
   "execution_count": 16,
   "metadata": {},
   "outputs": [],
   "source": [
    "conditions = [\n",
    "    df['Label'].str.contains('Brute'),\n",
    "    df['Label'].str.contains('XSS'),\n",
    "    df['Label'].str.contains('Sql'),\n",
    "    df['Label'].str.contains('Infiltration')\n",
    "]\n",
    "values = [\n",
    "    'Web Attack Brute Force',\n",
    "    'Web Attack XSS',\n",
    "    'Web Attack Sql Injection',\n",
    "    'Infiltration'\n",
    "]\n",
    "\n",
    "# Use np.select to apply conditions and replace values\n",
    "df['Label'] = np.select(conditions, values, default=df['Label'])"
   ]
  },
  {
   "cell_type": "code",
   "execution_count": 17,
   "metadata": {},
   "outputs": [
    {
     "data": {
      "text/plain": [
       "(1162128, 79)"
      ]
     },
     "execution_count": 17,
     "metadata": {},
     "output_type": "execute_result"
    }
   ],
   "source": [
    "df.shape"
   ]
  },
  {
   "cell_type": "code",
   "execution_count": 18,
   "metadata": {},
   "outputs": [
    {
     "data": {
      "text/plain": [
       "BENIGN                      870989\n",
       "PortScan                    158930\n",
       "DDoS                        128027\n",
       "Bot                           1966\n",
       "Web Attack Brute Force        1507\n",
       "Web Attack XSS                 652\n",
       "Infiltration                    36\n",
       "Web Attack Sql Injection        21\n",
       "Name: Label, dtype: int64"
      ]
     },
     "execution_count": 18,
     "metadata": {},
     "output_type": "execute_result"
    }
   ],
   "source": [
    "df.Label.value_counts()"
   ]
  },
  {
   "cell_type": "code",
   "execution_count": 19,
   "metadata": {},
   "outputs": [
    {
     "data": {
      "text/plain": [
       "array(['BENIGN', 'DDoS', 'PortScan', 'Bot', 'Infiltration',\n",
       "       'Web Attack Brute Force', 'Web Attack XSS',\n",
       "       'Web Attack Sql Injection'], dtype=object)"
      ]
     },
     "execution_count": 19,
     "metadata": {},
     "output_type": "execute_result"
    }
   ],
   "source": [
    "df.Label.unique()"
   ]
  },
  {
   "cell_type": "code",
   "execution_count": 23,
   "metadata": {},
   "outputs": [],
   "source": [
    "mapper = {'BENIGN': 0, 'DDoS': 1, 'PortScan': 2, 'Bot': 3, 'Infiltration': 4,\n",
    "       'Web Attack Brute Force': 5, 'Web Attack XSS': 6,\n",
    "       'Web Attack Sql Injection': 7, 'FTP-Patator': 8, 'SSH-Patator': 9,\n",
    "       'DoS slowloris': 10, 'DoS Slowhttptest': 11, 'DoS Hulk': 12, 'DoS GoldenEye': 13,\n",
    "       'Heartbleed': 14}"
   ]
  },
  {
   "cell_type": "code",
   "execution_count": 24,
   "metadata": {},
   "outputs": [],
   "source": [
    "df.Label = df.Label.map(mapper)"
   ]
  },
  {
   "cell_type": "code",
   "execution_count": 25,
   "metadata": {},
   "outputs": [],
   "source": [
    "df[df == np.inf] = np.nan\n",
    "df = df.dropna()"
   ]
  },
  {
   "cell_type": "code",
   "execution_count": 26,
   "metadata": {},
   "outputs": [
    {
     "data": {
      "text/plain": [
       "(1161344, 79)"
      ]
     },
     "execution_count": 26,
     "metadata": {},
     "output_type": "execute_result"
    }
   ],
   "source": [
    "df.shape"
   ]
  },
  {
   "cell_type": "code",
   "execution_count": 27,
   "metadata": {},
   "outputs": [
    {
     "data": {
      "text/plain": [
       "Index(['Destination Port', 'Flow Duration', 'Total Fwd Packets',\n",
       "       'Total Backward Packets', 'Total Length of Fwd Packets',\n",
       "       'Total Length of Bwd Packets', 'Fwd Packet Length Max',\n",
       "       'Fwd Packet Length Min', 'Fwd Packet Length Mean',\n",
       "       'Fwd Packet Length Std', 'Bwd Packet Length Max',\n",
       "       'Bwd Packet Length Min', 'Bwd Packet Length Mean',\n",
       "       'Bwd Packet Length Std', 'Flow Bytes/s', 'Flow Packets/s',\n",
       "       'Flow IAT Mean', 'Flow IAT Std', 'Flow IAT Max', 'Flow IAT Min',\n",
       "       'Fwd IAT Total', 'Fwd IAT Mean', 'Fwd IAT Std', 'Fwd IAT Max',\n",
       "       'Fwd IAT Min', 'Bwd IAT Total', 'Bwd IAT Mean', 'Bwd IAT Std',\n",
       "       'Bwd IAT Max', 'Bwd IAT Min', 'Fwd PSH Flags', 'Bwd PSH Flags',\n",
       "       'Fwd URG Flags', 'Bwd URG Flags', 'Fwd Header Length',\n",
       "       'Bwd Header Length', 'Fwd Packets/s', 'Bwd Packets/s',\n",
       "       'Min Packet Length', 'Max Packet Length', 'Packet Length Mean',\n",
       "       'Packet Length Std', 'Packet Length Variance', 'FIN Flag Count',\n",
       "       'SYN Flag Count', 'RST Flag Count', 'PSH Flag Count', 'ACK Flag Count',\n",
       "       'URG Flag Count', 'CWE Flag Count', 'ECE Flag Count', 'Down/Up Ratio',\n",
       "       'Average Packet Size', 'Avg Fwd Segment Size', 'Avg Bwd Segment Size',\n",
       "       'Fwd Header Length.1', 'Fwd Avg Bytes/Bulk', 'Fwd Avg Packets/Bulk',\n",
       "       'Fwd Avg Bulk Rate', 'Bwd Avg Bytes/Bulk', 'Bwd Avg Packets/Bulk',\n",
       "       'Bwd Avg Bulk Rate', 'Subflow Fwd Packets', 'Subflow Fwd Bytes',\n",
       "       'Subflow Bwd Packets', 'Subflow Bwd Bytes', 'Init_Win_bytes_forward',\n",
       "       'Init_Win_bytes_backward', 'act_data_pkt_fwd', 'min_seg_size_forward',\n",
       "       'Active Mean', 'Active Std', 'Active Max', 'Active Min', 'Idle Mean',\n",
       "       'Idle Std', 'Idle Max', 'Idle Min', 'Label'],\n",
       "      dtype='object')"
      ]
     },
     "execution_count": 27,
     "metadata": {},
     "output_type": "execute_result"
    }
   ],
   "source": [
    "df.columns"
   ]
  },
  {
   "cell_type": "code",
   "execution_count": 28,
   "metadata": {},
   "outputs": [
    {
     "name": "stdout",
     "output_type": "stream",
     "text": [
      "X_train shape: (929075, 78)\n",
      "y_train shape: (929075,)\n",
      "X_test shape: (232269, 78)\n",
      "y_test shape: (232269,)\n"
     ]
    }
   ],
   "source": [
    "from sklearn.model_selection import train_test_split\n",
    "\n",
    "X_train, X_test, y_train, y_test = train_test_split(df.drop('Label', axis=1), df['Label'], test_size=0.2, random_state=42)\n",
    "\n",
    "print('X_train shape:', X_train.shape)\n",
    "print('y_train shape:', y_train.shape)\n",
    "print('X_test shape:', X_test.shape)\n",
    "print('y_test shape:', y_test.shape)"
   ]
  },
  {
   "cell_type": "code",
   "execution_count": 29,
   "metadata": {},
   "outputs": [],
   "source": [
    "from sklearn.preprocessing import MinMaxScaler\n",
    "\n",
    "scaler = MinMaxScaler()\n",
    "X_train_scaled = scaler.fit_transform(X_train)\n",
    "X_test_scaled = scaler.transform(X_test)"
   ]
  },
  {
   "cell_type": "markdown",
   "metadata": {},
   "source": [
    "XGBoost RNN Model"
   ]
  },
  {
   "cell_type": "code",
   "execution_count": 30,
   "metadata": {},
   "outputs": [
    {
     "data": {
      "image/png": "[encoded data removed]",
      "text/plain": [
       "<Figure size 640x480 with 1 Axes>"
      ]
     },
     "metadata": {},
     "output_type": "display_data"
    }
   ],
   "source": [
    "\n",
    "xgb_model = xgb.XGBClassifier()\n",
    "xgb_model.fit(X_train_scaled, y_train)\n",
    "\n",
    "xgb.plot_importance(xgb_model, max_num_features=15)  # You can adjust max_num_features as needed\n",
    "plt.show()"
   ]
  },
  {
   "cell_type": "code",
   "execution_count": 31,
   "metadata": {},
   "outputs": [],
   "source": [
    "X_train_rnn = np.reshape(X_train_scaled, (X_train_scaled.shape[0], 1, X_train_scaled.shape[1]))\n",
    "X_test_rnn = np.reshape(X_test_scaled, (X_test_scaled.shape[0], 1, X_test_scaled.shape[1]))"
   ]
  },
  {
   "cell_type": "code",
   "execution_count": 33,
   "metadata": {},
   "outputs": [
    {
     "name": "stdout",
     "output_type": "stream",
     "text": [
      "Requirement already satisfied: tensorflow in c:\\users\\akshu\\anaconda3.x\\lib\\site-packages (2.16.1)\n",
      "Requirement already satisfied: tensorflow-intel==2.16.1 in c:\\users\\akshu\\anaconda3.x\\lib\\site-packages (from tensorflow) (2.16.1)\n",
      "Requirement already satisfied: libclang>=13.0.0 in c:\\users\\akshu\\anaconda3.x\\lib\\site-packages (from tensorflow-intel==2.16.1->tensorflow) (18.1.1)\n",
      "Requirement already satisfied: grpcio<2.0,>=1.24.3 in c:\\users\\akshu\\anaconda3.x\\lib\\site-packages (from tensorflow-intel==2.16.1->tensorflow) (1.62.1)\n",
      "Requirement already satisfied: setuptools in c:\\users\\akshu\\anaconda3.x\\lib\\site-packages (from tensorflow-intel==2.16.1->tensorflow) (65.6.3)\n",
      "Requirement already satisfied: keras>=3.0.0 in c:\\users\\akshu\\anaconda3.x\\lib\\site-packages (from tensorflow-intel==2.16.1->tensorflow) (3.2.1)\n",
      "Requirement already satisfied: requests<3,>=2.21.0 in c:\\users\\akshu\\anaconda3.x\\lib\\site-packages (from tensorflow-intel==2.16.1->tensorflow) (2.28.1)\n",
      "Requirement already satisfied: absl-py>=1.0.0 in c:\\users\\akshu\\anaconda3.x\\lib\\site-packages (from tensorflow-intel==2.16.1->tensorflow) (2.1.0)\n",
      "Requirement already satisfied: wrapt>=1.11.0 in c:\\users\\akshu\\anaconda3.x\\lib\\site-packages (from tensorflow-intel==2.16.1->tensorflow) (1.14.1)\n",
      "Requirement already satisfied: opt-einsum>=2.3.2 in c:\\users\\akshu\\anaconda3.x\\lib\\site-packages (from tensorflow-intel==2.16.1->tensorflow) (3.3.0)\n",
      "Requirement already satisfied: tensorboard<2.17,>=2.16 in c:\\users\\akshu\\anaconda3.x\\lib\\site-packages (from tensorflow-intel==2.16.1->tensorflow) (2.16.2)\n",
      "Requirement already satisfied: ml-dtypes~=0.3.1 in c:\\users\\akshu\\anaconda3.x\\lib\\site-packages (from tensorflow-intel==2.16.1->tensorflow) (0.3.2)\n",
      "Requirement already satisfied: google-pasta>=0.1.1 in c:\\users\\akshu\\anaconda3.x\\lib\\site-packages (from tensorflow-intel==2.16.1->tensorflow) (0.2.0)\n",
      "Requirement already satisfied: h5py>=3.10.0 in c:\\users\\akshu\\anaconda3.x\\lib\\site-packages (from tensorflow-intel==2.16.1->tensorflow) (3.11.0)\n",
      "Requirement already satisfied: flatbuffers>=23.5.26 in c:\\users\\akshu\\anaconda3.x\\lib\\site-packages (from tensorflow-intel==2.16.1->tensorflow) (24.3.25)\n",
      "Requirement already satisfied: numpy<2.0.0,>=1.23.5 in c:\\users\\akshu\\anaconda3.x\\lib\\site-packages (from tensorflow-intel==2.16.1->tensorflow) (1.23.5)\n",
      "Requirement already satisfied: termcolor>=1.1.0 in c:\\users\\akshu\\anaconda3.x\\lib\\site-packages (from tensorflow-intel==2.16.1->tensorflow) (2.4.0)\n",
      "Requirement already satisfied: tensorflow-io-gcs-filesystem>=0.23.1 in c:\\users\\akshu\\anaconda3.x\\lib\\site-packages (from tensorflow-intel==2.16.1->tensorflow) (0.31.0)\n",
      "Requirement already satisfied: six>=1.12.0 in c:\\users\\akshu\\anaconda3.x\\lib\\site-packages (from tensorflow-intel==2.16.1->tensorflow) (1.16.0)\n",
      "Requirement already satisfied: gast!=0.5.0,!=0.5.1,!=0.5.2,>=0.2.1 in c:\\users\\akshu\\anaconda3.x\\lib\\site-packages (from tensorflow-intel==2.16.1->tensorflow) (0.5.4)\n",
      "Requirement already satisfied: astunparse>=1.6.0 in c:\\users\\akshu\\anaconda3.x\\lib\\site-packages (from tensorflow-intel==2.16.1->tensorflow) (1.6.3)\n",
      "Requirement already satisfied: protobuf!=4.21.0,!=4.21.1,!=4.21.2,!=4.21.3,!=4.21.4,!=4.21.5,<5.0.0dev,>=3.20.3 in c:\\users\\akshu\\anaconda3.x\\lib\\site-packages (from tensorflow-intel==2.16.1->tensorflow) (4.25.3)\n",
      "Requirement already satisfied: typing-extensions>=3.6.6 in c:\\users\\akshu\\anaconda3.x\\lib\\site-packages (from tensorflow-intel==2.16.1->tensorflow) (4.4.0)\n",
      "Requirement already satisfied: packaging in c:\\users\\akshu\\anaconda3.x\\lib\\site-packages (from tensorflow-intel==2.16.1->tensorflow) (22.0)\n",
      "Requirement already satisfied: wheel<1.0,>=0.23.0 in c:\\users\\akshu\\anaconda3.x\\lib\\site-packages (from astunparse>=1.6.0->tensorflow-intel==2.16.1->tensorflow) (0.38.4)\n",
      "Requirement already satisfied: namex in c:\\users\\akshu\\anaconda3.x\\lib\\site-packages (from keras>=3.0.0->tensorflow-intel==2.16.1->tensorflow) (0.0.7)\n",
      "Requirement already satisfied: optree in c:\\users\\akshu\\anaconda3.x\\lib\\site-packages (from keras>=3.0.0->tensorflow-intel==2.16.1->tensorflow) (0.11.0)\n",
      "Requirement already satisfied: rich in c:\\users\\akshu\\anaconda3.x\\lib\\site-packages (from keras>=3.0.0->tensorflow-intel==2.16.1->tensorflow) (13.7.1)\n",
      "Requirement already satisfied: certifi>=2017.4.17 in c:\\users\\akshu\\anaconda3.x\\lib\\site-packages (from requests<3,>=2.21.0->tensorflow-intel==2.16.1->tensorflow) (2022.12.7)\n",
      "Requirement already satisfied: charset-normalizer<3,>=2 in c:\\users\\akshu\\anaconda3.x\\lib\\site-packages (from requests<3,>=2.21.0->tensorflow-intel==2.16.1->tensorflow) (2.0.4)\n",
      "Requirement already satisfied: idna<4,>=2.5 in c:\\users\\akshu\\anaconda3.x\\lib\\site-packages (from requests<3,>=2.21.0->tensorflow-intel==2.16.1->tensorflow) (3.4)\n",
      "Requirement already satisfied: urllib3<1.27,>=1.21.1 in c:\\users\\akshu\\anaconda3.x\\lib\\site-packages (from requests<3,>=2.21.0->tensorflow-intel==2.16.1->tensorflow) (1.26.14)\n",
      "Requirement already satisfied: tensorboard-data-server<0.8.0,>=0.7.0 in c:\\users\\akshu\\anaconda3.x\\lib\\site-packages (from tensorboard<2.17,>=2.16->tensorflow-intel==2.16.1->tensorflow) (0.7.2)\n",
      "Requirement already satisfied: markdown>=2.6.8 in c:\\users\\akshu\\anaconda3.x\\lib\\site-packages (from tensorboard<2.17,>=2.16->tensorflow-intel==2.16.1->tensorflow) (3.4.1)\n",
      "Requirement already satisfied: werkzeug>=1.0.1 in c:\\users\\akshu\\anaconda3.x\\lib\\site-packages (from tensorboard<2.17,>=2.16->tensorflow-intel==2.16.1->tensorflow) (2.2.2)\n",
      "Requirement already satisfied: MarkupSafe>=2.1.1 in c:\\users\\akshu\\anaconda3.x\\lib\\site-packages (from werkzeug>=1.0.1->tensorboard<2.17,>=2.16->tensorflow-intel==2.16.1->tensorflow) (2.1.1)\n",
      "Requirement already satisfied: pygments<3.0.0,>=2.13.0 in c:\\users\\akshu\\anaconda3.x\\lib\\site-packages (from rich->keras>=3.0.0->tensorflow-intel==2.16.1->tensorflow) (2.17.2)\n",
      "Requirement already satisfied: markdown-it-py>=2.2.0 in c:\\users\\akshu\\anaconda3.x\\lib\\site-packages (from rich->keras>=3.0.0->tensorflow-intel==2.16.1->tensorflow) (3.0.0)\n",
      "Requirement already satisfied: mdurl~=0.1 in c:\\users\\akshu\\anaconda3.x\\lib\\site-packages (from markdown-it-py>=2.2.0->rich->keras>=3.0.0->tensorflow-intel==2.16.1->tensorflow) (0.1.2)\n",
      "Note: you may need to restart the kernel to use updated packages.\n"
     ]
    }
   ],
   "source": [
    "pip install tensorflow"
   ]
  },
  {
   "cell_type": "code",
   "execution_count": 34,
   "metadata": {},
   "outputs": [],
   "source": [
    "from tensorflow.keras.models import Sequential\n",
    "from tensorflow.keras.layers import LSTM, Dense, Dropout\n",
    "model = Sequential([\n",
    "    LSTM(64, input_shape=(X_train_rnn.shape[1], X_train_rnn.shape[2])),\n",
    "    Dense(1, activation='sigmoid')\n",
    "])"
   ]
  },
  {
   "cell_type": "code",
   "execution_count": 35,
   "metadata": {},
   "outputs": [
    {
     "name": "stdout",
     "output_type": "stream",
     "text": [
      "Epoch 1/10\n",
      "\u001b[1m29034/29034\u001b[0m \u001b[32m━━━━━━━━━━━━━━━━━━━━\u001b[0m\u001b[37m\u001b[0m \u001b[1m70s\u001b[0m 2ms/step - accuracy: 0.7144 - loss: 0.0000e+00\n",
      "Epoch 2/10\n",
      "\u001b[1m29034/29034\u001b[0m \u001b[32m━━━━━━━━━━━━━━━━━━━━\u001b[0m\u001b[37m\u001b[0m \u001b[1m68s\u001b[0m 2ms/step - accuracy: 0.6988 - loss: 0.0000e+00\n",
      "Epoch 3/10\n",
      "\u001b[1m29034/29034\u001b[0m \u001b[32m━━━━━━━━━━━━━━━━━━━━\u001b[0m\u001b[37m\u001b[0m \u001b[1m66s\u001b[0m 2ms/step - accuracy: 0.7001 - loss: 0.0000e+00\n",
      "Epoch 4/10\n",
      "\u001b[1m29034/29034\u001b[0m \u001b[32m━━━━━━━━━━━━━━━━━━━━\u001b[0m\u001b[37m\u001b[0m \u001b[1m66s\u001b[0m 2ms/step - accuracy: 0.7071 - loss: 0.0000e+00\n",
      "Epoch 5/10\n",
      "\u001b[1m29034/29034\u001b[0m \u001b[32m━━━━━━━━━━━━━━━━━━━━\u001b[0m\u001b[37m\u001b[0m \u001b[1m77s\u001b[0m 3ms/step - accuracy: 0.7150 - loss: 0.0000e+00\n",
      "Epoch 6/10\n",
      "\u001b[1m29034/29034\u001b[0m \u001b[32m━━━━━━━━━━━━━━━━━━━━\u001b[0m\u001b[37m\u001b[0m \u001b[1m79s\u001b[0m 3ms/step - accuracy: 0.7149 - loss: 0.0000e+00\n",
      "Epoch 7/10\n",
      "\u001b[1m29034/29034\u001b[0m \u001b[32m━━━━━━━━━━━━━━━━━━━━\u001b[0m\u001b[37m\u001b[0m \u001b[1m70s\u001b[0m 2ms/step - accuracy: 0.7159 - loss: 0.0000e+00\n",
      "Epoch 8/10\n",
      "\u001b[1m29034/29034\u001b[0m \u001b[32m━━━━━━━━━━━━━━━━━━━━\u001b[0m\u001b[37m\u001b[0m \u001b[1m69s\u001b[0m 2ms/step - accuracy: 0.7152 - loss: 0.0000e+00\n",
      "Epoch 9/10\n",
      "\u001b[1m29034/29034\u001b[0m \u001b[32m━━━━━━━━━━━━━━━━━━━━\u001b[0m\u001b[37m\u001b[0m \u001b[1m73s\u001b[0m 3ms/step - accuracy: 0.7169 - loss: 0.0000e+00\n",
      "Epoch 10/10\n",
      "\u001b[1m29034/29034\u001b[0m \u001b[32m━━━━━━━━━━━━━━━━━━━━\u001b[0m\u001b[37m\u001b[0m \u001b[1m72s\u001b[0m 2ms/step - accuracy: 0.7172 - loss: 0.0000e+00\n",
      "\u001b[1m7259/7259\u001b[0m \u001b[32m━━━━━━━━━━━━━━━━━━━━\u001b[0m\u001b[37m\u001b[0m \u001b[1m12s\u001b[0m 2ms/step - accuracy: 0.7139 - loss: 0.0000e+00\n"
     ]
    }
   ],
   "source": [
    "model.compile(loss='categorical_crossentropy', optimizer='adam', metrics=['accuracy'])\n",
    "model.fit(X_train_rnn, y_train, epochs=10, batch_size=32, verbose=1)\n",
    "rnn_accuracy = model.evaluate(X_test_rnn, y_test)[1]"
   ]
  },
  {
   "cell_type": "code",
   "execution_count": 36,
   "metadata": {},
   "outputs": [
    {
     "name": "stdout",
     "output_type": "stream",
     "text": [
      "RNN accuracy 0.7144560813903809\n"
     ]
    }
   ],
   "source": [
    "print(\"RNN accuracy\",rnn_accuracy)"
   ]
  },
  {
   "cell_type": "code",
   "execution_count": 32,
   "metadata": {},
   "outputs": [
    {
     "name": "stdout",
     "output_type": "stream",
     "text": [
      "XGBoost Accuracy: 0.9979549573985336\n"
     ]
    }
   ],
   "source": [
    "from sklearn.metrics import accuracy_score\n",
    "import xgboost as xgb\n",
    "\n",
    "xgb_model = xgb.XGBClassifier()\n",
    "xgb_model.fit(X_train_scaled, y_train)\n",
    "xgb_pred = xgb_model.predict(X_test_scaled)\n",
    "xgb_accuracy = accuracy_score(y_test, xgb_pred)\n",
    "print(\"XGBoost Accuracy:\", xgb_accuracy)"
   ]
  },
  {
   "cell_type": "code",
   "execution_count": 70,
   "metadata": {},
   "outputs": [
    {
     "name": "stdout",
     "output_type": "stream",
     "text": [
      "XGBoost Precision: 0.9978556110722152\n",
      "XGBoost Recall: 0.9979549573985336\n",
      "XGBoost F1-score: 0.9978707194560595\n"
     ]
    }
   ],
   "source": [
    "from sklearn.metrics import precision_score, recall_score, f1_score\n",
    "\n",
    "xgb_precision = precision_score(y_test, xgb_pred, average='weighted')\n",
    "xgb_recall = recall_score(y_test, xgb_pred, average='weighted')\n",
    "xgb_f1 = f1_score(y_test, xgb_pred, average='weighted')\n",
    "\n",
    "print(\"XGBoost Precision:\", xgb_precision)\n",
    "print(\"XGBoost Recall:\", xgb_recall)\n",
    "print(\"XGBoost F1-score:\", xgb_f1)\n",
    "\n"
   ]
  },
  {
   "cell_type": "markdown",
   "metadata": {},
   "source": [
    "FLS- Fuzzy Logic Algorithm"
   ]
  },
  {
   "cell_type": "code",
   "execution_count": 37,
   "metadata": {},
   "outputs": [
    {
     "name": "stdout",
     "output_type": "stream",
     "text": [
      "Fuzzy Accuracy: 0.7480163086765775\n"
     ]
    }
   ],
   "source": [
    "import skfuzzy as fuzz\n",
    "from skfuzzy import control as ctrl\n",
    "\n",
    "attack_type = ctrl.Antecedent(np.arange(0, 15, 1), 'attack_type')\n",
    "attack_type['low'] = fuzz.trimf(attack_type.universe, [0, 0, 7])\n",
    "attack_type['medium'] = fuzz.trimf(attack_type.universe, [0, 7, 14])\n",
    "attack_type['high'] = fuzz.trimf(attack_type.universe, [7, 14, 14])\n",
    "\n",
    "attack_likelihood = ctrl.Consequent(np.arange(0, 101, 1), 'attack_likelihood')\n",
    "attack_likelihood['low'] = fuzz.trimf(attack_likelihood.universe, [0, 0, 50])\n",
    "attack_likelihood['high'] = fuzz.trimf(attack_likelihood.universe, [0, 50, 100])\n",
    "\n",
    "rule1 = ctrl.Rule(attack_type['low'], attack_likelihood['low'])\n",
    "rule2 = ctrl.Rule(attack_type['medium'], attack_likelihood['low'])\n",
    "rule3 = ctrl.Rule(attack_type['high'], attack_likelihood['high'])\n",
    "\n",
    "fuzzy_ctrl = ctrl.ControlSystem([rule1, rule2, rule3])\n",
    "attack_likelihood_prediction = ctrl.ControlSystemSimulation(fuzzy_ctrl)\n",
    "\n",
    "fuzzy_accuracy = []\n",
    "for i in range(len(xgb_pred)):\n",
    "    attack_likelihood_prediction.input['attack_type'] = xgb_pred[i]\n",
    "    attack_likelihood_prediction.compute()\n",
    "    fuzzy_output = attack_likelihood_prediction.output['attack_likelihood']\n",
    "    fuzzy_label = 1 if fuzzy_output >= 50 else 0\n",
    "    fuzzy_accuracy.append(fuzzy_label)\n",
    "\n",
    "fuzzy_accuracy_score = accuracy_score(y_test, fuzzy_accuracy)\n",
    "print(\"Fuzzy Accuracy:\", fuzzy_accuracy_score)"
   ]
  },
  {
   "cell_type": "code",
   "execution_count": 71,
   "metadata": {},
   "outputs": [
    {
     "name": "stdout",
     "output_type": "stream",
     "text": [
      "Precision for each class: 0.559528398046133\n"
     ]
    }
   ],
   "source": [
    "from sklearn.metrics import precision_score\n",
    "precision = precision_score(y_test, fuzzy_accuracy, average='weighted')\n",
    "print(\"Precision for each class:\", precision)\n"
   ]
  },
  {
   "cell_type": "code",
   "execution_count": 73,
   "metadata": {},
   "outputs": [
    {
     "name": "stdout",
     "output_type": "stream",
     "text": [
      "Recall for each class: 0.7480163086765775\n"
     ]
    }
   ],
   "source": [
    "from sklearn.metrics import recall_score\n",
    "recall = recall_score(y_test, fuzzy_accuracy, average='weighted')\n",
    "print(\"Recall for each class:\", recall)\n"
   ]
  },
  {
   "cell_type": "code",
   "execution_count": 72,
   "metadata": {},
   "outputs": [
    {
     "name": "stdout",
     "output_type": "stream",
     "text": [
      "F1 score for each class: 0.640186702227912\n"
     ]
    }
   ],
   "source": [
    "from sklearn.metrics import f1_score\n",
    "f1 = f1_score(y_test, fuzzy_accuracy, average='weighted')\n",
    "print(\"F1 score for each class:\", f1)\n"
   ]
  },
  {
   "cell_type": "markdown",
   "metadata": {},
   "source": [
    "DEEP DEFENSE Algorithm"
   ]
  },
  {
   "cell_type": "code",
   "execution_count": 38,
   "metadata": {},
   "outputs": [],
   "source": [
    "import tensorflow as tf\n",
    "from tensorflow.keras.models import Sequential\n",
    "from tensorflow.keras.layers import Dense, Dropout\n",
    "from sklearn.metrics import accuracy_score, precision_score, recall_score, f1_score"
   ]
  },
  {
   "cell_type": "code",
   "execution_count": 39,
   "metadata": {},
   "outputs": [],
   "source": [
    "model = tf.keras.Sequential([\n",
    "    tf.keras.layers.Dense(256, activation='relu', input_shape=(X_train_scaled.shape[1],)),\n",
    "    tf.keras.layers.Dropout(0.3),\n",
    "    tf.keras.layers.Dense(128, activation='relu'),\n",
    "    tf.keras.layers.Dropout(0.3),\n",
    "    tf.keras.layers.Dense(64, activation='relu'),\n",
    "    tf.keras.layers.Dropout(0.3),\n",
    "    tf.keras.layers.Dense(1, activation='sigmoid')\n",
    "])"
   ]
  },
  {
   "cell_type": "code",
   "execution_count": 40,
   "metadata": {},
   "outputs": [],
   "source": [
    "optimizer = tf.keras.optimizers.Adam(learning_rate=0.001)\n",
    "model.compile(loss='categorical_crossentropy',\n",
    "              metrics=['accuracy'], optimizer=optimizer)"
   ]
  },
  {
   "cell_type": "code",
   "execution_count": 41,
   "metadata": {},
   "outputs": [
    {
     "name": "stdout",
     "output_type": "stream",
     "text": [
      "Epoch 1/10\n",
      "\u001b[1m23227/23227\u001b[0m \u001b[32m━━━━━━━━━━━━━━━━━━━━\u001b[0m\u001b[37m\u001b[0m \u001b[1m72s\u001b[0m 3ms/step - accuracy: 0.7496 - loss: 0.0000e+00 - val_accuracy: 0.7497 - val_loss: 0.0000e+00\n",
      "Epoch 2/10\n",
      "\u001b[1m23227/23227\u001b[0m \u001b[32m━━━━━━━━━━━━━━━━━━━━\u001b[0m\u001b[37m\u001b[0m \u001b[1m113s\u001b[0m 5ms/step - accuracy: 0.7506 - loss: 0.0000e+00 - val_accuracy: 0.7497 - val_loss: 0.0000e+00\n",
      "Epoch 3/10\n",
      "\u001b[1m23227/23227\u001b[0m \u001b[32m━━━━━━━━━━━━━━━━━━━━\u001b[0m\u001b[37m\u001b[0m \u001b[1m162s\u001b[0m 6ms/step - accuracy: 0.7487 - loss: 0.0000e+00 - val_accuracy: 0.7497 - val_loss: 0.0000e+00\n",
      "Epoch 4/10\n",
      "\u001b[1m23227/23227\u001b[0m \u001b[32m━━━━━━━━━━━━━━━━━━━━\u001b[0m\u001b[37m\u001b[0m \u001b[1m134s\u001b[0m 6ms/step - accuracy: 0.7499 - loss: 0.0000e+00 - val_accuracy: 0.7497 - val_loss: 0.0000e+00\n",
      "Epoch 5/10\n",
      "\u001b[1m23227/23227\u001b[0m \u001b[32m━━━━━━━━━━━━━━━━━━━━\u001b[0m\u001b[37m\u001b[0m \u001b[1m132s\u001b[0m 6ms/step - accuracy: 0.7501 - loss: 0.0000e+00 - val_accuracy: 0.7497 - val_loss: 0.0000e+00\n",
      "Epoch 6/10\n",
      "\u001b[1m23227/23227\u001b[0m \u001b[32m━━━━━━━━━━━━━━━━━━━━\u001b[0m\u001b[37m\u001b[0m \u001b[1m130s\u001b[0m 6ms/step - accuracy: 0.7502 - loss: 0.0000e+00 - val_accuracy: 0.7497 - val_loss: 0.0000e+00\n",
      "Epoch 7/10\n",
      "\u001b[1m23227/23227\u001b[0m \u001b[32m━━━━━━━━━━━━━━━━━━━━\u001b[0m\u001b[37m\u001b[0m \u001b[1m132s\u001b[0m 6ms/step - accuracy: 0.7495 - loss: 0.0000e+00 - val_accuracy: 0.7497 - val_loss: 0.0000e+00\n",
      "Epoch 8/10\n",
      "\u001b[1m23227/23227\u001b[0m \u001b[32m━━━━━━━━━━━━━━━━━━━━\u001b[0m\u001b[37m\u001b[0m \u001b[1m141s\u001b[0m 6ms/step - accuracy: 0.7502 - loss: 0.0000e+00 - val_accuracy: 0.7497 - val_loss: 0.0000e+00\n",
      "Epoch 9/10\n",
      "\u001b[1m23227/23227\u001b[0m \u001b[32m━━━━━━━━━━━━━━━━━━━━\u001b[0m\u001b[37m\u001b[0m \u001b[1m133s\u001b[0m 6ms/step - accuracy: 0.7504 - loss: 0.0000e+00 - val_accuracy: 0.7497 - val_loss: 0.0000e+00\n",
      "Epoch 10/10\n",
      "\u001b[1m23227/23227\u001b[0m \u001b[32m━━━━━━━━━━━━━━━━━━━━\u001b[0m\u001b[37m\u001b[0m \u001b[1m134s\u001b[0m 6ms/step - accuracy: 0.7494 - loss: 0.0000e+00 - val_accuracy: 0.7497 - val_loss: 0.0000e+00\n"
     ]
    }
   ],
   "source": [
    "history = model.fit(X_train_scaled, y_train, epochs=10, batch_size=32, validation_split=0.2)"
   ]
  },
  {
   "cell_type": "code",
   "execution_count": 42,
   "metadata": {},
   "outputs": [
    {
     "name": "stdout",
     "output_type": "stream",
     "text": [
      "\u001b[1m7259/7259\u001b[0m \u001b[32m━━━━━━━━━━━━━━━━━━━━\u001b[0m\u001b[37m\u001b[0m \u001b[1m24s\u001b[0m 3ms/step\n"
     ]
    }
   ],
   "source": [
    "y_pred_proba = model.predict(X_test_scaled)\n",
    "y_pred = (y_pred_proba > 0.5).astype(int).flatten()"
   ]
  },
  {
   "cell_type": "code",
   "execution_count": 43,
   "metadata": {},
   "outputs": [],
   "source": [
    "accuracy_dd = accuracy_score(y_test, y_pred)\n",
    "precision_dd = precision_score(y_test, y_pred, average='weighted')\n",
    "recall_dd = recall_score(y_test, y_pred, average='weighted')\n",
    "f1_dd = f1_score(y_test, y_pred, average='weighted')"
   ]
  },
  {
   "cell_type": "code",
   "execution_count": 44,
   "metadata": {},
   "outputs": [
    {
     "name": "stdout",
     "output_type": "stream",
     "text": [
      "Accuracy: 0.7480163086765775\n",
      "Precision: 0.559528398046133\n",
      "Recall: 0.7480163086765775\n",
      "F1-score: 0.640186702227912\n"
     ]
    }
   ],
   "source": [
    "print(\"Accuracy:\", accuracy_dd)\n",
    "print(\"Precision:\", precision_dd)\n",
    "print(\"Recall:\", recall_dd)\n",
    "print(\"F1-score:\", f1_dd)"
   ]
  },
  {
   "cell_type": "markdown",
   "metadata": {},
   "source": [
    "CEPIDS-Clustering Enhanced Pre-processed Intrusion Detection System Algorithm"
   ]
  },
  {
   "cell_type": "code",
   "execution_count": 45,
   "metadata": {},
   "outputs": [],
   "source": [
    "from sklearn.cluster import KMeans\n",
    "from sklearn.ensemble import RandomForestClassifier\n",
    "from sklearn.model_selection import train_test_split\n",
    "from sklearn.metrics import accuracy_score, precision_score, recall_score, f1_score\n",
    "from sklearn.preprocessing import LabelEncoder, StandardScaler"
   ]
  },
  {
   "cell_type": "code",
   "execution_count": 46,
   "metadata": {},
   "outputs": [],
   "source": [
    "kmeans = KMeans(n_clusters=5, random_state=42)\n",
    "X_clusters = kmeans.fit_predict(df.drop('Label', axis=1))"
   ]
  },
  {
   "cell_type": "code",
   "execution_count": 47,
   "metadata": {},
   "outputs": [
    {
     "data": {
      "text/plain": [
       "(1161344,)"
      ]
     },
     "execution_count": 47,
     "metadata": {},
     "output_type": "execute_result"
    }
   ],
   "source": [
    "X_clusters.shape"
   ]
  },
  {
   "cell_type": "code",
   "execution_count": 48,
   "metadata": {},
   "outputs": [],
   "source": [
    "df['cluster'] = X_clusters"
   ]
  },
  {
   "cell_type": "code",
   "execution_count": 49,
   "metadata": {},
   "outputs": [],
   "source": [
    "X_train, X_test, y_train, y_test = train_test_split(df.drop(columns=['Label']), df['Label'], test_size=0.2, random_state=42)"
   ]
  },
  {
   "cell_type": "code",
   "execution_count": 50,
   "metadata": {},
   "outputs": [
    {
     "data": {
      "text/html": [
       "<style>#sk-container-id-1 {color: black;background-color: white;}#sk-container-id-1 pre{padding: 0;}#sk-container-id-1 div.sk-toggleable {background-color: white;}#sk-container-id-1 label.sk-toggleable__label {cursor: pointer;display: block;width: 100%;margin-bottom: 0;padding: 0.3em;box-sizing: border-box;text-align: center;}#sk-container-id-1 label.sk-toggleable__label-arrow:before {content: \"▸\";float: left;margin-right: 0.25em;color: #696969;}#sk-container-id-1 label.sk-toggleable__label-arrow:hover:before {color: black;}#sk-container-id-1 div.sk-estimator:hover label.sk-toggleable__label-arrow:before {color: black;}#sk-container-id-1 div.sk-toggleable__content {max-height: 0;max-width: 0;overflow: hidden;text-align: left;background-color: #f0f8ff;}#sk-container-id-1 div.sk-toggleable__content pre {margin: 0.2em;color: black;border-radius: 0.25em;background-color: #f0f8ff;}#sk-container-id-1 input.sk-toggleable__control:checked~div.sk-toggleable__content {max-height: 200px;max-width: 100%;overflow: auto;}#sk-container-id-1 input.sk-toggleable__control:checked~label.sk-toggleable__label-arrow:before {content: \"▾\";}#sk-container-id-1 div.sk-estimator input.sk-toggleable__control:checked~label.sk-toggleable__label {background-color: #d4ebff;}#sk-container-id-1 div.sk-label input.sk-toggleable__control:checked~label.sk-toggleable__label {background-color: #d4ebff;}#sk-container-id-1 input.sk-hidden--visually {border: 0;clip: rect(1px 1px 1px 1px);clip: rect(1px, 1px, 1px, 1px);height: 1px;margin: -1px;overflow: hidden;padding: 0;position: absolute;width: 1px;}#sk-container-id-1 div.sk-estimator {font-family: monospace;background-color: #f0f8ff;border: 1px dotted black;border-radius: 0.25em;box-sizing: border-box;margin-bottom: 0.5em;}#sk-container-id-1 div.sk-estimator:hover {background-color: #d4ebff;}#sk-container-id-1 div.sk-parallel-item::after {content: \"\";width: 100%;border-bottom: 1px solid gray;flex-grow: 1;}#sk-container-id-1 div.sk-label:hover label.sk-toggleable__label {background-color: #d4ebff;}#sk-container-id-1 div.sk-serial::before {content: \"\";position: absolute;border-left: 1px solid gray;box-sizing: border-box;top: 0;bottom: 0;left: 50%;z-index: 0;}#sk-container-id-1 div.sk-serial {display: flex;flex-direction: column;align-items: center;background-color: white;padding-right: 0.2em;padding-left: 0.2em;position: relative;}#sk-container-id-1 div.sk-item {position: relative;z-index: 1;}#sk-container-id-1 div.sk-parallel {display: flex;align-items: stretch;justify-content: center;background-color: white;position: relative;}#sk-container-id-1 div.sk-item::before, #sk-container-id-1 div.sk-parallel-item::before {content: \"\";position: absolute;border-left: 1px solid gray;box-sizing: border-box;top: 0;bottom: 0;left: 50%;z-index: -1;}#sk-container-id-1 div.sk-parallel-item {display: flex;flex-direction: column;z-index: 1;position: relative;background-color: white;}#sk-container-id-1 div.sk-parallel-item:first-child::after {align-self: flex-end;width: 50%;}#sk-container-id-1 div.sk-parallel-item:last-child::after {align-self: flex-start;width: 50%;}#sk-container-id-1 div.sk-parallel-item:only-child::after {width: 0;}#sk-container-id-1 div.sk-dashed-wrapped {border: 1px dashed gray;margin: 0 0.4em 0.5em 0.4em;box-sizing: border-box;padding-bottom: 0.4em;background-color: white;}#sk-container-id-1 div.sk-label label {font-family: monospace;font-weight: bold;display: inline-block;line-height: 1.2em;}#sk-container-id-1 div.sk-label-container {text-align: center;}#sk-container-id-1 div.sk-container {/* jupyter's `normalize.less` sets `[hidden] { display: none; }` but bootstrap.min.css set `[hidden] { display: none !important; }` so we also need the `!important` here to be able to override the default hidden behavior on the sphinx rendered scikit-learn.org. See: https://github.com/scikit-learn/scikit-learn/issues/21755 */display: inline-block !important;position: relative;}#sk-container-id-1 div.sk-text-repr-fallback {display: none;}</style><div id=\"sk-container-id-1\" class=\"sk-top-container\"><div class=\"sk-text-repr-fallback\"><pre>RandomForestClassifier(random_state=42)</pre><b>In a Jupyter environment, please rerun this cell to show the HTML representation or trust the notebook. <br />On GitHub, the HTML representation is unable to render, please try loading this page with nbviewer.org.</b></div><div class=\"sk-container\" hidden><div class=\"sk-item\"><div class=\"sk-estimator sk-toggleable\"><input class=\"sk-toggleable__control sk-hidden--visually\" id=\"sk-estimator-id-1\" type=\"checkbox\" checked><label for=\"sk-estimator-id-1\" class=\"sk-toggleable__label sk-toggleable__label-arrow\">RandomForestClassifier</label><div class=\"sk-toggleable__content\"><pre>RandomForestClassifier(random_state=42)</pre></div></div></div></div></div>"
      ],
      "text/plain": [
       "RandomForestClassifier(random_state=42)"
      ]
     },
     "execution_count": 50,
     "metadata": {},
     "output_type": "execute_result"
    }
   ],
   "source": [
    "clf = RandomForestClassifier(n_estimators=100, random_state=42)\n",
    "clf.fit(X_train, y_train)"
   ]
  },
  {
   "cell_type": "code",
   "execution_count": 51,
   "metadata": {},
   "outputs": [],
   "source": [
    "y_pred = clf.predict(X_test)"
   ]
  },
  {
   "cell_type": "code",
   "execution_count": 75,
   "metadata": {},
   "outputs": [],
   "source": [
    "accuracy_c = accuracy_score(y_test, y_pred)\n"
   ]
  },
  {
   "cell_type": "code",
   "execution_count": 62,
   "metadata": {},
   "outputs": [
    {
     "name": "stdout",
     "output_type": "stream",
     "text": [
      "Accuracy: 0.9972359634733865\n"
     ]
    }
   ],
   "source": [
    "print(\"Accuracy:\", accuracy_c)\n"
   ]
  },
  {
   "cell_type": "code",
   "execution_count": 64,
   "metadata": {},
   "outputs": [
    {
     "name": "stdout",
     "output_type": "stream",
     "text": [
      "Precision for each class: [0.99851513 1.         0.99380699 0.8611898  1.         0.74461538\n",
      " 0.41111111 0.        ]\n",
      "Recall for each class: [0.99857834 0.9992977  0.99588349 0.76190476 0.66666667 0.80666667\n",
      " 0.29365079 0.        ]\n",
      "F1 score for each class: [0.99854673 0.99964873 0.99484416 0.80851064 0.8        0.7744\n",
      " 0.34259259 0.        ]\n",
      "Average Precision: 0.7511548015163789\n",
      "Average Recall: 0.6903310526033399\n",
      "Average F1 score: 0.714817855788966\n"
     ]
    }
   ],
   "source": [
    "from sklearn.metrics import precision_score, recall_score, f1_score\n",
    "precision = precision_score(y_test, y_pred, average=None)\n",
    "recall = recall_score(y_test, y_pred, average=None)\n",
    "f1 = f1_score(y_test, y_pred, average=None)\n",
    "\n",
    "print(\"Precision for each class:\", precision)\n",
    "print(\"Recall for each class:\", recall)\n",
    "print(\"F1 score for each class:\", f1)\n",
    "\n",
    "average_precision = precision_score(y_test, y_pred, average='macro')\n",
    "average_recall = recall_score(y_test, y_pred, average='macro')\n",
    "average_f1 = f1_score(y_test, y_pred, average='macro')\n",
    "\n",
    "print(\"Average Precision:\", average_precision)\n",
    "print(\"Average Recall:\", average_recall)\n",
    "print(\"Average F1 score:\", average_f1)\n"
   ]
  },
  {
   "cell_type": "code",
   "execution_count": 86,
   "metadata": {},
   "outputs": [
    {
     "data": {
      "image/png": "[encoded data removed]",
      "text/plain": [
       "<Figure size 640x480 with 1 Axes>"
      ]
     },
     "metadata": {},
     "output_type": "display_data"
    }
   ],
   "source": [
    "import matplotlib.pyplot as plt\n",
    "\n",
    "\n",
    "iot_nodes = range(10, 91, 10)  \n",
    "fls = [74] * 9   \n",
    "cepids = [99]*9  \n",
    "deepdefense = [74, 74, 75, 74, 74, 75, 74, 75, 74] \n",
    "proposed_xgboost_rnn = [99]*9\n",
    "\n",
    "plt.plot(iot_nodes, fls, label='FLS', color='red')\n",
    "plt.plot(iot_nodes, cepids, label='CEPIDS', color='blue')\n",
    "plt.plot(iot_nodes, deepdefense, label='DeepDefense', color='green',linestyle='dashed')\n",
    "plt.plot(iot_nodes, proposed_xgboost_rnn, label='Proposed XGBoost-RNN', color='black', linestyle='dashed')\n",
    "\n",
    "plt.title('Accuracy (%) vs IoT Nodes')\n",
    "plt.xlabel('IoT Nodes')\n",
    "plt.ylabel('Accuracy (%)')\n",
    "\n",
    "plt.legend()\n",
    "\n",
    "\n",
    "plt.show()"
   ]
  },
  {
   "cell_type": "code",
   "execution_count": 82,
   "metadata": {},
   "outputs": [
    {
     "data": {
      "image/png": "[encoded data removed]",
      "text/plain": [
       "<Figure size 640x480 with 1 Axes>"
      ]
     },
     "metadata": {},
     "output_type": "display_data"
    }
   ],
   "source": [
    "import matplotlib.pyplot as plt\n",
    "\n",
    "# Sample data (replace with your actual data)\n",
    "iot_nodes = range(10, 91, 10)  # X-axis values ranging from 10 to 90\n",
    "fls = [55] * 9   # Replace with actual FLS values\n",
    "cepids = [99, 100, 99, 86, 100, 74, 41, 74, 74] # Replace with actual CEPPIDS values\n",
    "deepdefense = [55] * 9 # Replace with actual DeepDefense values\n",
    "proposed_xgboost_rnn = [99] * 9# Replace with actual Proposed XGBoost-RNN values\n",
    "\n",
    "# Plotting the lines\n",
    "plt.plot(iot_nodes, fls, label='FLS', color='red')\n",
    "plt.plot(iot_nodes, cepids, label='CEPIDS', color='blue')\n",
    "plt.plot(iot_nodes, deepdefense, label='DeepDefense', color='green', linestyle='dashed')\n",
    "plt.plot(iot_nodes, proposed_xgboost_rnn, label='Proposed XGBoost-RNN', color='black', linestyle='dashed')\n",
    "\n",
    "# Adding titles and labels\n",
    "plt.title('Precision (%) vs IoT Nodes')\n",
    "plt.xlabel('IoT Nodes')\n",
    "plt.ylabel('Precision (%)')\n",
    "\n",
    "# Showing legend\n",
    "plt.legend()\n",
    "\n",
    "# Displaying the plot\n",
    "plt.show()"
   ]
  },
  {
   "cell_type": "code",
   "execution_count": 2,
   "metadata": {},
   "outputs": [
    {
     "data": {
      "image/png": "[encoded data removed]",
      "text/plain": [
       "<Figure size 640x480 with 1 Axes>"
      ]
     },
     "metadata": {},
     "output_type": "display_data"
    }
   ],
   "source": [
    "import matplotlib.pyplot as plt\n",
    "\n",
    "# Sample data (replace with your actual data)\n",
    "iot_nodes = range(10, 91, 10)  # X-axis values ranging from 10 to 90\n",
    "fls = [74] * 9   # Replace with actual FLS values\n",
    "cepids = [99, 99, 99, 76, 66, 80, 29, 76, 66] # Replace with actual CEPPIDS values\n",
    "deepdefense = [74] * 9# Replace with actual DeepDefense values\n",
    "proposed_xgboost_rnn = [99]*9# Replace with actual Proposed XGBoost-RNN values\n",
    "\n",
    "# Plotting the lines\n",
    "plt.plot(iot_nodes, fls, label='FLS', color='red')\n",
    "plt.plot(iot_nodes, cepids, label='CEPIDS', color='blue')\n",
    "plt.plot(iot_nodes, deepdefense, label='DeepDefense', color='green',linestyle='dashed')\n",
    "plt.plot(iot_nodes, proposed_xgboost_rnn, label='Proposed XGBoost-RNN', color='black', linestyle='dashed')\n",
    "\n",
    "# Adding titles and labels\n",
    "plt.title('Recall (%) vs IoT Nodes')\n",
    "plt.xlabel('IoT Nodes')\n",
    "plt.ylabel('Recall (%)')\n",
    "\n",
    "# Showing legend\n",
    "plt.legend()\n",
    "\n",
    "# Displaying the plot\n",
    "plt.show()"
   ]
  },
  {
   "cell_type": "code",
   "execution_count": 1,
   "metadata": {},
   "outputs": [
    {
     "data": {
      "image/png": "[encoded data removed]",
      "text/plain": [
       "<Figure size 640x480 with 1 Axes>"
      ]
     },
     "metadata": {},
     "output_type": "display_data"
    }
   ],
   "source": [
    "import matplotlib.pyplot as plt\n",
    "\n",
    "# Sample data (replace with your actual data)\n",
    "iot_nodes = range(10, 91, 10)  # X-axis values ranging from 10 to 90\n",
    "fls = [64] * 9   # Replace with actual FLS values\n",
    "cepids = [99, 99, 99, 80, 80, 77, 34, 77, 80] # Replace with actual CEPPIDS values\n",
    "deepdefense = [64] * 9# Replace with actual DeepDefense values\n",
    "proposed_xgboost_rnn = [99] * 9# Replace with actual Proposed XGBoost-RNN values\n",
    "\n",
    "# Plotting the lines\n",
    "plt.plot(iot_nodes, fls, label='FLS', color='red')\n",
    "plt.plot(iot_nodes, cepids, label='CEPIDS', color='blue')\n",
    "plt.plot(iot_nodes, deepdefense, label='DeepDefense', color='green', linestyle='dashed')\n",
    "plt.plot(iot_nodes, proposed_xgboost_rnn, label='Proposed XGBoost-RNN', color='black', linestyle='dashed')\n",
    "\n",
    "# Adding titles and labels\n",
    "plt.title('F-Measure (%) vs IoT Nodes')\n",
    "plt.xlabel('IoT Nodes')\n",
    "plt.ylabel('F-Measure (%)')\n",
    "\n",
    "# Showing legend\n",
    "plt.legend()\n",
    "\n",
    "# Displaying the plot\n",
    "plt.show()"
   ]
  },
  {
   "cell_type": "code",
   "execution_count": null,
   "metadata": {},
   "outputs": [],
   "source": []
  }
 ],
 "metadata": {
  "kernelspec": {
   "display_name": "Python 3",
   "language": "python",
   "name": "python3"
  },
  "language_info": {
   "codemirror_mode": {
    "name": "ipython",
    "version": 3
   },
   "file_extension": ".py",
   "mimetype": "text/x-python",
   "name": "python",
   "nbconvert_exporter": "python",
   "pygments_lexer": "ipython3",
   "version": "3.10.9"
  }
 },
 "nbformat": 4,
 "nbformat_minor": 2
}
